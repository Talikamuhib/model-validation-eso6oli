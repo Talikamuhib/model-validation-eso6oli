{
  "cells": [
    {
      "cell_type": "markdown",
      "metadata": {
        "id": "6rhZsUcq8rRJ"
      },
      "source": [
        "<body>\n",
        "    <h1>Introduction to Model Validation</h1>\n",
        "    <p>Welcome to our discussion on model validation! In this session, we'll explore the Ersilia eos6oli model and its validation using a wild dataset.</p>\n",
        "</body>"
      ]
    },
    {
      "cell_type": "code",
      "execution_count": null,
      "metadata": {
        "id": "9M89s8vo8n5I"
      },
      "outputs": [],
      "source": [
        "# In this codeblock I will import the necessary packages and specify the paths to relevant folders\n",
        "%%capture\n",
        "%env MINICONDA_INSTALLER_SCRIPT=Miniconda3-py37_4.12.0-Linux-x86_64.sh\n",
        "%env MINICONDA_PREFIX=/usr/local\n",
        "%env PYTHONPATH= \"$PYTHONPATH:/usr/local/lib/python3.7/site-packages\"\n",
        "%env PIP_ROOT_USER_ACTION=ignore\n",
        "\n",
        "!wget https://repo.anaconda.com/miniconda/$MINICONDA_INSTALLER_SCRIPT\n",
        "!chmod +x $MINICONDA_INSTALLER_SCRIPT\n",
        "!./$MINICONDA_INSTALLER_SCRIPT -b -f -p $MINICONDA_PREFIX\n",
        "\n",
        "!python -m pip install git+https://github.com/ersilia-os/ersilia.git\n",
        "!python -m pip install requests --upgrade\n",
        "import sys\n",
        "\n",
        "_ = sys.path.append(\"/usr/local/lib/python3.7/site-packages\")"
      ]
    },
    {
      "cell_type": "code",
      "execution_count": null,
      "metadata": {
        "id": "sagBI_HoAo-V"
      },
      "outputs": [],
      "source": []
    },
    {
      "cell_type": "code",
      "execution_count": null,
      "metadata": {
        "colab": {
          "base_uri": "https://localhost:8080/"
        },
        "id": "wFWvJ1Zq_JmK",
        "outputId": "bbee4b7c-3d46-415e-bf90-d55926425982"
      },
      "outputs": [
        {
          "name": "stdout",
          "output_type": "stream",
          "text": [
            "Collecting rdkit\n",
            "  Using cached rdkit-2023.3.2-cp37-cp37m-manylinux_2_17_x86_64.manylinux2014_x86_64.whl (29.5 MB)\n",
            "Requirement already satisfied: numpy in /usr/local/lib/python3.7/site-packages (from rdkit) (1.21.6)\n",
            "Requirement already satisfied: Pillow in /usr/local/lib/python3.7/site-packages (from rdkit) (9.5.0)\n",
            "Installing collected packages: rdkit\n",
            "Successfully installed rdkit-2023.3.2\n",
            "\u001b[33mWARNING: Running pip as the 'root' user can result in broken permissions and conflicting behaviour with the system package manager. It is recommended to use a virtual environment instead: https://pip.pypa.io/warnings/venv\u001b[0m\n"
          ]
        },
        {
          "data": {
            "text/plain": [
              "(31099, 3)"
            ]
          },
          "execution_count": 10,
          "metadata": {},
          "output_type": "execute_result"
        }
      ],
      "source": [
        "import pandas as pd\n",
        "!pip install rdkit\n",
        "\n",
        "# Step 1: Read CSV files into pandas DataFrames\n",
        "chembl_df = pd.read_csv('/content/chembl_stand.csv')\n",
        "aqsol_df = pd.read_csv('/content/aqsol.csv')\n",
        "\n",
        "chembl_df.shape\n"
      ]
    },
    {
      "cell_type": "code",
      "execution_count": null,
      "metadata": {
        "colab": {
          "base_uri": "https://localhost:8080/"
        },
        "id": "EDc5uQL1_1rV",
        "outputId": "e2618e6d-281f-4cf6-d9a9-0d8e5b3a3598"
      },
      "outputs": [
        {
          "data": {
            "text/plain": [
              "(9982, 2)"
            ]
          },
          "execution_count": 4,
          "metadata": {},
          "output_type": "execute_result"
        }
      ],
      "source": [
        "aqsol_df.shape"
      ]
    },
    {
      "cell_type": "code",
      "execution_count": null,
      "metadata": {
        "colab": {
          "base_uri": "https://localhost:8080/"
        },
        "id": "d0mCJMLi_rJ3",
        "outputId": "af1d553a-8cd2-400d-e322-8fc5df5efd7d"
      },
      "outputs": [
        {
          "name": "stdout",
          "output_type": "stream",
          "text": [
            "Unique records saved to 'unique_chembl.csv'\n"
          ]
        }
      ],
      "source": [
        "# Step 2: Identify rows with similar SMILES entries\n",
        "similar_smiles = chembl_df[chembl_df['smiles'].isin(aqsol_df['smiles'])]\n",
        "\n",
        "# Step 3: Drop rows with similar SMILES entries from chembl DataFrame\n",
        "unique_chembl_df = chembl_df[~chembl_df.index.isin(similar_smiles.index)]\n",
        "\n",
        "# Step 4: Save unique records from chembl DataFrame to a new CSV file\n",
        "unique_chembl_df.to_csv('unique_chembl.csv', index=False)\n",
        "\n",
        "print(\"Unique records saved to 'unique_chembl.csv'\")"
      ]
    },
    {
      "cell_type": "code",
      "execution_count": null,
      "metadata": {
        "colab": {
          "base_uri": "https://localhost:8080/"
        },
        "id": "l_KtTPwx9AET",
        "outputId": "fdf45fc9-1ddc-47fb-e5e0-35643a03c551"
      },
      "outputs": [
        {
          "name": "stdout",
          "output_type": "stream",
          "text": [
            "My dataset contains 31020 SMILES :)\n"
          ]
        }
      ],
      "source": [
        "# specify input folder, output folder, smiles column\n",
        "input_folder = \"/content/drive/MyDrive/Ersilia\"\n",
        "output_folder = \"/content/output\"\n",
        "smiles_column = \"smiles\"\n",
        "\n",
        "#finding number of smiles\n",
        "\n",
        "import pandas as pd\n",
        "\n",
        "#path = \"%s/%s.csv\" % (input_folder, input_filename)\n",
        "smi_col = \"%s\" % smiles_column\n",
        "df = pd.read_csv(\"/content/unique_chembl.csv\")\n",
        "smiles = df[smi_col].tolist()\n",
        "\n",
        "print(\"My dataset contains\" + \" \" + str(len(smiles)) + \" \" + \"SMILES :)\")"
      ]
    },
    {
      "cell_type": "code",
      "execution_count": null,
      "metadata": {
        "colab": {
          "base_uri": "https://localhost:8080/"
        },
        "id": "RSQkzvkaCVnG",
        "outputId": "c8435d53-9ab3-436b-c9a9-b1079a0b6a49"
      },
      "outputs": [
        {
          "name": "stdout",
          "output_type": "stream",
          "text": [
            "All samples are valid SMILES\n"
          ]
        }
      ],
      "source": [
        "from rdkit import Chem\n",
        "import pandas as pd\n",
        "\n",
        "def is_smiles(smiles):\n",
        "    return Chem.MolFromSmiles(smiles) is not None\n",
        "\n",
        "# Read the file with SMILES strings\n",
        "\n",
        "# Filter out rows with invalid SMILES\n",
        "valid_smiles = df[df['smiles'].apply(is_smiles)]\n",
        "\n",
        "# Save the filtered data to a new file\n",
        "valid_smiles.to_csv('/content/unique_chembl.csv', index=False)\n",
        "\n",
        "# Check if all samples are valid SMILES in the filtered data\n",
        "if len(valid_smiles) == len(df):\n",
        "    print(\"All samples are valid SMILES\")\n",
        "else:\n",
        "    print(\"Not all samples are valid SMILES\")"
      ]
    },
    {
      "cell_type": "code",
      "execution_count": null,
      "metadata": {
        "id": "dj9z8YV49A5_"
      },
      "outputs": [],
      "source": [
        "# Enter the model name\n",
        "model_name = \"eos6oli\""
      ]
    },
    {
      "cell_type": "code",
      "execution_count": null,
      "metadata": {
        "colab": {
          "base_uri": "https://localhost:8080/"
        },
        "id": "5Z6ENM5W9FMG",
        "outputId": "6a006cd9-76fc-4dab-ff6b-c504cd3c8b12"
      },
      "outputs": [
        {
          "name": "stdout",
          "output_type": "stream",
          "text": [
            "\u001b[34m⬇️  Fetching model eos6oli: soltrannet-aqueous-solubility\u001b[0m\n",
            "sudo: unknown user udockerusername\r\n",
            "sudo: error initializing audit plugin sudoers_audit\r\n",
            "[]\n",
            "sudo: unknown user udockerusername\n",
            "sudo: error initializing audit plugin sudoers_audit\n",
            "sudo: unknown user udockerusername\n",
            "sudo: error initializing audit plugin sudoers_audit\n",
            "sudo: unknown user udockerusername\n",
            "sudo: error initializing audit plugin sudoers_audit\n",
            "\u001b[32m🚀 Serving model eos6oli: soltrannet-aqueous-solubility\u001b[0m\n",
            "\u001b[0m\n",
            "\u001b[33m   URL: http://127.0.0.1:51931\u001b[0m\n",
            "\u001b[33m   PID: 6422\u001b[0m\n",
            "\u001b[33m   SRV: conda\u001b[0m\n",
            "\u001b[0m\n",
            "\u001b[34m👉 To run model:\u001b[0m\n",
            "\u001b[34m   - run\u001b[0m\n",
            "\u001b[0m\n",
            "\u001b[34m💁 Information:\u001b[0m\n",
            "\u001b[34m   - info\u001b[0m\n",
            "sudo: unknown user udockerusername\n",
            "sudo: error initializing audit plugin sudoers_audit\n",
            "\u001b[32m⛔ Model eos6oli closed\u001b[0m\n",
            "\u001b[32m👍 Model eos6oli fetched successfully!\u001b[0m\n",
            "Time taken: 195.37 seconds\n"
          ]
        }
      ],
      "source": [
        "# @title 📥 Fetch the model\n",
        "import time\n",
        "\n",
        "begin = time.time()\n",
        "!ersilia fetch $model_name\n",
        "end = time.time()\n",
        "\n",
        "print(\"Time taken:\", round((end - begin), 2), \"seconds\")"
      ]
    },
    {
      "cell_type": "code",
      "execution_count": null,
      "metadata": {
        "colab": {
          "base_uri": "https://localhost:8080/"
        },
        "id": "oNPr0ZJ29GVa",
        "outputId": "d69a474b-a6c2-4efa-e928-0278fef6e0aa"
      },
      "outputs": [
        {
          "name": "stdout",
          "output_type": "stream",
          "text": [
            "sudo: unknown user udockerusername\r\n",
            "sudo: error initializing audit plugin sudoers_audit\r\n",
            "sudo: unknown user udockerusername\r\n",
            "sudo: error initializing audit plugin sudoers_audit\r\n",
            "\u001b[32m🚀 Serving model eos6oli: soltrannet-aqueous-solubility\u001b[0m\n",
            "\u001b[0m\n",
            "\u001b[33m   URL: http://127.0.0.1:35203\u001b[0m\n",
            "\u001b[33m   PID: 6895\u001b[0m\n",
            "\u001b[33m   SRV: conda\u001b[0m\n",
            "\u001b[0m\n",
            "\u001b[34m👉 To run model:\u001b[0m\n",
            "\u001b[34m   - run\u001b[0m\n",
            "\u001b[0m\n",
            "\u001b[34m💁 Information:\u001b[0m\n",
            "\u001b[34m   - info\u001b[0m\n"
          ]
        }
      ],
      "source": [
        "# @title ⚙️ Serve the model\n",
        "\n",
        "# returns available APIs (calculate or predict)\n",
        "\n",
        "!ersilia serve $model_name"
      ]
    },
    {
      "cell_type": "code",
      "execution_count": null,
      "metadata": {
        "colab": {
          "background_save": true
        },
        "id": "Ytgu_5vPBIbU",
        "outputId": "db5e780a-de09-4891-a43b-a46761d9434d"
      },
      "outputs": [
        {
          "name": "stdout",
          "output_type": "stream",
          "text": [
            "Successful 👍! Time taken: 1531.17 seconds\n"
          ]
        }
      ],
      "source": [
        "# @title ⚡ Run predictions\n",
        "api = \"calculate\"  # @param {type:\"string\"}\n",
        "\n",
        "from ersilia import ErsiliaModel\n",
        "import time\n",
        "\n",
        "model = ErsiliaModel(model_name)\n",
        "begin = time.time()\n",
        "output = model.api(input=smiles, output=\"pandas\")\n",
        "end = time.time()\n",
        "\n",
        "print(\"Successful 👍! Time taken:\", round((end - begin), 2), \"seconds\")\n",
        "model.close()"
      ]
    },
    {
      "cell_type": "code",
      "execution_count": null,
      "metadata": {
        "colab": {
          "background_save": true
        },
        "id": "uUFRR698D_JN",
        "outputId": "c888ff82-8c03-46c3-d022-b0961aebdab0"
      },
      "outputs": [
        {
          "name": "stdout",
          "output_type": "stream",
          "text": [
            "                           key                                       input  \\\n",
            "0  WDSQNMSWLYROHT-UHFFFAOYSA-N     Brc1ccc(-c2nc(-c3ccc4nc[nH]c4c3)no2)cc1   \n",
            "1  YQTYPSIBGJUFHX-UHFFFAOYSA-N         Brc1cccc(Nc2nc3c(N4CCCC4)ncnc3s2)c1   \n",
            "2  QENYREVCVOGEQU-UHFFFAOYSA-N    Brc1cccc(Nc2ncnc3cc(NCCCn4ccnc4)ncc23)c1   \n",
            "3  PFJRPGGNJFXXDJ-UHFFFAOYSA-N  Brc1cccc(Nc2ncnc3cc(NCCc4c[nH]cn4)ncc23)c1   \n",
            "4  OJRQYIAKSVOWNZ-UHFFFAOYSA-N   Brc1cccc(Nc2ncnc3cnc(NCCCN4CCOCC4)cc23)c1   \n",
            "\n",
            "   solubility  \n",
            "0      -5.071  \n",
            "1      -5.322  \n",
            "2      -5.235  \n",
            "3      -4.338  \n",
            "4      -3.788  \n"
          ]
        }
      ],
      "source": [
        "# @title ✔️ Check your results\n",
        "\n",
        "print(output.head())"
      ]
    },
    {
      "cell_type": "code",
      "execution_count": null,
      "metadata": {
        "colab": {
          "background_save": true
        },
        "id": "RPKYRyn7EB4i"
      },
      "outputs": [],
      "source": [
        "# @title 💾 Save your results in Google Drive\n",
        "\n",
        "output_path = \"/content/output_pchembl.csv\"\n",
        "output.to_csv(output_path, index=False)\n"
      ]
    },
    {
      "cell_type": "code",
      "source": [
        "output=pd.read_csv(\"/content/output_pchembl.csv\")\n",
        "output.head()\n"
      ],
      "metadata": {
        "colab": {
          "base_uri": "https://localhost:8080/",
          "height": 293
        },
        "id": "GjK99Z3eOwbA",
        "outputId": "18f0c2a2-8301-4b86-a10e-28c73b039348"
      },
      "execution_count": 32,
      "outputs": [
        {
          "output_type": "execute_result",
          "data": {
            "text/plain": [
              "                           key                                       input  \\\n",
              "0  WDSQNMSWLYROHT-UHFFFAOYSA-N     Brc1ccc(-c2nc(-c3ccc4nc[nH]c4c3)no2)cc1   \n",
              "1  YQTYPSIBGJUFHX-UHFFFAOYSA-N         Brc1cccc(Nc2nc3c(N4CCCC4)ncnc3s2)c1   \n",
              "2  QENYREVCVOGEQU-UHFFFAOYSA-N    Brc1cccc(Nc2ncnc3cc(NCCCn4ccnc4)ncc23)c1   \n",
              "3  PFJRPGGNJFXXDJ-UHFFFAOYSA-N  Brc1cccc(Nc2ncnc3cc(NCCc4c[nH]cn4)ncc23)c1   \n",
              "4  OJRQYIAKSVOWNZ-UHFFFAOYSA-N   Brc1cccc(Nc2ncnc3cnc(NCCCN4CCOCC4)cc23)c1   \n",
              "\n",
              "   solubility  \n",
              "0      -5.071  \n",
              "1      -5.322  \n",
              "2      -5.235  \n",
              "3      -4.338  \n",
              "4      -3.788  "
            ],
            "text/html": [
              "\n",
              "  <div id=\"df-9fab03bf-2a5c-4caa-98b7-3d0945e87a9c\" class=\"colab-df-container\">\n",
              "    <div>\n",
              "<style scoped>\n",
              "    .dataframe tbody tr th:only-of-type {\n",
              "        vertical-align: middle;\n",
              "    }\n",
              "\n",
              "    .dataframe tbody tr th {\n",
              "        vertical-align: top;\n",
              "    }\n",
              "\n",
              "    .dataframe thead th {\n",
              "        text-align: right;\n",
              "    }\n",
              "</style>\n",
              "<table border=\"1\" class=\"dataframe\">\n",
              "  <thead>\n",
              "    <tr style=\"text-align: right;\">\n",
              "      <th></th>\n",
              "      <th>key</th>\n",
              "      <th>input</th>\n",
              "      <th>solubility</th>\n",
              "    </tr>\n",
              "  </thead>\n",
              "  <tbody>\n",
              "    <tr>\n",
              "      <th>0</th>\n",
              "      <td>WDSQNMSWLYROHT-UHFFFAOYSA-N</td>\n",
              "      <td>Brc1ccc(-c2nc(-c3ccc4nc[nH]c4c3)no2)cc1</td>\n",
              "      <td>-5.071</td>\n",
              "    </tr>\n",
              "    <tr>\n",
              "      <th>1</th>\n",
              "      <td>YQTYPSIBGJUFHX-UHFFFAOYSA-N</td>\n",
              "      <td>Brc1cccc(Nc2nc3c(N4CCCC4)ncnc3s2)c1</td>\n",
              "      <td>-5.322</td>\n",
              "    </tr>\n",
              "    <tr>\n",
              "      <th>2</th>\n",
              "      <td>QENYREVCVOGEQU-UHFFFAOYSA-N</td>\n",
              "      <td>Brc1cccc(Nc2ncnc3cc(NCCCn4ccnc4)ncc23)c1</td>\n",
              "      <td>-5.235</td>\n",
              "    </tr>\n",
              "    <tr>\n",
              "      <th>3</th>\n",
              "      <td>PFJRPGGNJFXXDJ-UHFFFAOYSA-N</td>\n",
              "      <td>Brc1cccc(Nc2ncnc3cc(NCCc4c[nH]cn4)ncc23)c1</td>\n",
              "      <td>-4.338</td>\n",
              "    </tr>\n",
              "    <tr>\n",
              "      <th>4</th>\n",
              "      <td>OJRQYIAKSVOWNZ-UHFFFAOYSA-N</td>\n",
              "      <td>Brc1cccc(Nc2ncnc3cnc(NCCCN4CCOCC4)cc23)c1</td>\n",
              "      <td>-3.788</td>\n",
              "    </tr>\n",
              "  </tbody>\n",
              "</table>\n",
              "</div>\n",
              "    <div class=\"colab-df-buttons\">\n",
              "\n",
              "  <div class=\"colab-df-container\">\n",
              "    <button class=\"colab-df-convert\" onclick=\"convertToInteractive('df-9fab03bf-2a5c-4caa-98b7-3d0945e87a9c')\"\n",
              "            title=\"Convert this dataframe to an interactive table.\"\n",
              "            style=\"display:none;\">\n",
              "\n",
              "  <svg xmlns=\"http://www.w3.org/2000/svg\" height=\"24px\" viewBox=\"0 -960 960 960\">\n",
              "    <path d=\"M120-120v-720h720v720H120Zm60-500h600v-160H180v160Zm220 220h160v-160H400v160Zm0 220h160v-160H400v160ZM180-400h160v-160H180v160Zm440 0h160v-160H620v160ZM180-180h160v-160H180v160Zm440 0h160v-160H620v160Z\"/>\n",
              "  </svg>\n",
              "    </button>\n",
              "\n",
              "  <style>\n",
              "    .colab-df-container {\n",
              "      display:flex;\n",
              "      gap: 12px;\n",
              "    }\n",
              "\n",
              "    .colab-df-convert {\n",
              "      background-color: #E8F0FE;\n",
              "      border: none;\n",
              "      border-radius: 50%;\n",
              "      cursor: pointer;\n",
              "      display: none;\n",
              "      fill: #1967D2;\n",
              "      height: 32px;\n",
              "      padding: 0 0 0 0;\n",
              "      width: 32px;\n",
              "    }\n",
              "\n",
              "    .colab-df-convert:hover {\n",
              "      background-color: #E2EBFA;\n",
              "      box-shadow: 0px 1px 2px rgba(60, 64, 67, 0.3), 0px 1px 3px 1px rgba(60, 64, 67, 0.15);\n",
              "      fill: #174EA6;\n",
              "    }\n",
              "\n",
              "    .colab-df-buttons div {\n",
              "      margin-bottom: 4px;\n",
              "    }\n",
              "\n",
              "    [theme=dark] .colab-df-convert {\n",
              "      background-color: #3B4455;\n",
              "      fill: #D2E3FC;\n",
              "    }\n",
              "\n",
              "    [theme=dark] .colab-df-convert:hover {\n",
              "      background-color: #434B5C;\n",
              "      box-shadow: 0px 1px 3px 1px rgba(0, 0, 0, 0.15);\n",
              "      filter: drop-shadow(0px 1px 2px rgba(0, 0, 0, 0.3));\n",
              "      fill: #FFFFFF;\n",
              "    }\n",
              "  </style>\n",
              "\n",
              "    <script>\n",
              "      const buttonEl =\n",
              "        document.querySelector('#df-9fab03bf-2a5c-4caa-98b7-3d0945e87a9c button.colab-df-convert');\n",
              "      buttonEl.style.display =\n",
              "        google.colab.kernel.accessAllowed ? 'block' : 'none';\n",
              "\n",
              "      async function convertToInteractive(key) {\n",
              "        const element = document.querySelector('#df-9fab03bf-2a5c-4caa-98b7-3d0945e87a9c');\n",
              "        const dataTable =\n",
              "          await google.colab.kernel.invokeFunction('convertToInteractive',\n",
              "                                                    [key], {});\n",
              "        if (!dataTable) return;\n",
              "\n",
              "        const docLinkHtml = 'Like what you see? Visit the ' +\n",
              "          '<a target=\"_blank\" href=https://colab.research.google.com/notebooks/data_table.ipynb>data table notebook</a>'\n",
              "          + ' to learn more about interactive tables.';\n",
              "        element.innerHTML = '';\n",
              "        dataTable['output_type'] = 'display_data';\n",
              "        await google.colab.output.renderOutput(dataTable, element);\n",
              "        const docLink = document.createElement('div');\n",
              "        docLink.innerHTML = docLinkHtml;\n",
              "        element.appendChild(docLink);\n",
              "      }\n",
              "    </script>\n",
              "  </div>\n",
              "\n",
              "\n",
              "<div id=\"df-dbaa6a9c-bda3-4285-9456-28c59711feb7\">\n",
              "  <button class=\"colab-df-quickchart\" onclick=\"quickchart('df-dbaa6a9c-bda3-4285-9456-28c59711feb7')\"\n",
              "            title=\"Suggest charts\"\n",
              "            style=\"display:none;\">\n",
              "\n",
              "<svg xmlns=\"http://www.w3.org/2000/svg\" height=\"24px\"viewBox=\"0 0 24 24\"\n",
              "     width=\"24px\">\n",
              "    <g>\n",
              "        <path d=\"M19 3H5c-1.1 0-2 .9-2 2v14c0 1.1.9 2 2 2h14c1.1 0 2-.9 2-2V5c0-1.1-.9-2-2-2zM9 17H7v-7h2v7zm4 0h-2V7h2v10zm4 0h-2v-4h2v4z\"/>\n",
              "    </g>\n",
              "</svg>\n",
              "  </button>\n",
              "\n",
              "<style>\n",
              "  .colab-df-quickchart {\n",
              "      --bg-color: #E8F0FE;\n",
              "      --fill-color: #1967D2;\n",
              "      --hover-bg-color: #E2EBFA;\n",
              "      --hover-fill-color: #174EA6;\n",
              "      --disabled-fill-color: #AAA;\n",
              "      --disabled-bg-color: #DDD;\n",
              "  }\n",
              "\n",
              "  [theme=dark] .colab-df-quickchart {\n",
              "      --bg-color: #3B4455;\n",
              "      --fill-color: #D2E3FC;\n",
              "      --hover-bg-color: #434B5C;\n",
              "      --hover-fill-color: #FFFFFF;\n",
              "      --disabled-bg-color: #3B4455;\n",
              "      --disabled-fill-color: #666;\n",
              "  }\n",
              "\n",
              "  .colab-df-quickchart {\n",
              "    background-color: var(--bg-color);\n",
              "    border: none;\n",
              "    border-radius: 50%;\n",
              "    cursor: pointer;\n",
              "    display: none;\n",
              "    fill: var(--fill-color);\n",
              "    height: 32px;\n",
              "    padding: 0;\n",
              "    width: 32px;\n",
              "  }\n",
              "\n",
              "  .colab-df-quickchart:hover {\n",
              "    background-color: var(--hover-bg-color);\n",
              "    box-shadow: 0 1px 2px rgba(60, 64, 67, 0.3), 0 1px 3px 1px rgba(60, 64, 67, 0.15);\n",
              "    fill: var(--button-hover-fill-color);\n",
              "  }\n",
              "\n",
              "  .colab-df-quickchart-complete:disabled,\n",
              "  .colab-df-quickchart-complete:disabled:hover {\n",
              "    background-color: var(--disabled-bg-color);\n",
              "    fill: var(--disabled-fill-color);\n",
              "    box-shadow: none;\n",
              "  }\n",
              "\n",
              "  .colab-df-spinner {\n",
              "    border: 2px solid var(--fill-color);\n",
              "    border-color: transparent;\n",
              "    border-bottom-color: var(--fill-color);\n",
              "    animation:\n",
              "      spin 1s steps(1) infinite;\n",
              "  }\n",
              "\n",
              "  @keyframes spin {\n",
              "    0% {\n",
              "      border-color: transparent;\n",
              "      border-bottom-color: var(--fill-color);\n",
              "      border-left-color: var(--fill-color);\n",
              "    }\n",
              "    20% {\n",
              "      border-color: transparent;\n",
              "      border-left-color: var(--fill-color);\n",
              "      border-top-color: var(--fill-color);\n",
              "    }\n",
              "    30% {\n",
              "      border-color: transparent;\n",
              "      border-left-color: var(--fill-color);\n",
              "      border-top-color: var(--fill-color);\n",
              "      border-right-color: var(--fill-color);\n",
              "    }\n",
              "    40% {\n",
              "      border-color: transparent;\n",
              "      border-right-color: var(--fill-color);\n",
              "      border-top-color: var(--fill-color);\n",
              "    }\n",
              "    60% {\n",
              "      border-color: transparent;\n",
              "      border-right-color: var(--fill-color);\n",
              "    }\n",
              "    80% {\n",
              "      border-color: transparent;\n",
              "      border-right-color: var(--fill-color);\n",
              "      border-bottom-color: var(--fill-color);\n",
              "    }\n",
              "    90% {\n",
              "      border-color: transparent;\n",
              "      border-bottom-color: var(--fill-color);\n",
              "    }\n",
              "  }\n",
              "</style>\n",
              "\n",
              "  <script>\n",
              "    async function quickchart(key) {\n",
              "      const quickchartButtonEl =\n",
              "        document.querySelector('#' + key + ' button');\n",
              "      quickchartButtonEl.disabled = true;  // To prevent multiple clicks.\n",
              "      quickchartButtonEl.classList.add('colab-df-spinner');\n",
              "      try {\n",
              "        const charts = await google.colab.kernel.invokeFunction(\n",
              "            'suggestCharts', [key], {});\n",
              "      } catch (error) {\n",
              "        console.error('Error during call to suggestCharts:', error);\n",
              "      }\n",
              "      quickchartButtonEl.classList.remove('colab-df-spinner');\n",
              "      quickchartButtonEl.classList.add('colab-df-quickchart-complete');\n",
              "    }\n",
              "    (() => {\n",
              "      let quickchartButtonEl =\n",
              "        document.querySelector('#df-dbaa6a9c-bda3-4285-9456-28c59711feb7 button');\n",
              "      quickchartButtonEl.style.display =\n",
              "        google.colab.kernel.accessAllowed ? 'block' : 'none';\n",
              "    })();\n",
              "  </script>\n",
              "</div>\n",
              "\n",
              "    </div>\n",
              "  </div>\n"
            ],
            "application/vnd.google.colaboratory.intrinsic+json": {
              "type": "dataframe",
              "variable_name": "output",
              "summary": "{\n  \"name\": \"output\",\n  \"rows\": 31020,\n  \"fields\": [\n    {\n      \"column\": \"key\",\n      \"properties\": {\n        \"dtype\": \"string\",\n        \"num_unique_values\": 26331,\n        \"samples\": [\n          \"QHNRPKQSSSAFSM-OAQYLSRUSA-N\",\n          \"GPQNMDWGOKBGTI-UHFFFAOYSA-N\",\n          \"VTWSHDBNPHFDGO-RUZDIDTESA-N\"\n        ],\n        \"semantic_type\": \"\",\n        \"description\": \"\"\n      }\n    },\n    {\n      \"column\": \"input\",\n      \"properties\": {\n        \"dtype\": \"string\",\n        \"num_unique_values\": 26331,\n        \"samples\": [\n          \"O=C([C@H]1CCCCN1)N1CCC2(CCN(c3nccc(NCc4ccc(Cl)cc4Cl)n3)CC2)C1\",\n          \"Oc1nc2cc(Cl)c(Cl)c(Cc3ccccn3)c2nc1O\",\n          \"C[C@@](N)(CCc1ccc(-c2nc3ccc(C4(c5ccccc5)CC4)nc3s2)c(F)c1)C(=O)O\"\n        ],\n        \"semantic_type\": \"\",\n        \"description\": \"\"\n      }\n    },\n    {\n      \"column\": \"solubility\",\n      \"properties\": {\n        \"dtype\": \"number\",\n        \"std\": 1.4265200653981955,\n        \"min\": -9.46,\n        \"max\": 0.496,\n        \"num_unique_values\": 6195,\n        \"samples\": [\n          -2.514,\n          -3.322,\n          -7.145\n        ],\n        \"semantic_type\": \"\",\n        \"description\": \"\"\n      }\n    }\n  ]\n}"
            }
          },
          "metadata": {},
          "execution_count": 32
        }
      ]
    },
    {
      "cell_type": "code",
      "source": [
        "input=pd.read_csv(\"/content/chembl_stand.csv\")\n",
        "input.head()"
      ],
      "metadata": {
        "colab": {
          "base_uri": "https://localhost:8080/",
          "height": 206
        },
        "id": "aYrX4OpJPbgh",
        "outputId": "0a1c029a-e81a-4aab-8ea5-4a5f8c296da8"
      },
      "execution_count": 36,
      "outputs": [
        {
          "output_type": "execute_result",
          "data": {
            "text/plain": [
              "                                       smiles     logS  weight\n",
              "0     Brc1ccc(-c2nc(-c3ccc4nc[nH]c4c3)no2)cc1 -4.45100     1.0\n",
              "1         Brc1cccc(Nc2nc3c(N4CCCC4)ncnc3s2)c1 -3.39942     1.0\n",
              "2    Brc1cccc(Nc2ncnc3cc(NCCCn4ccnc4)ncc23)c1 -1.39794     1.0\n",
              "3  Brc1cccc(Nc2ncnc3cc(NCCc4c[nH]cn4)ncc23)c1 -1.45593     1.0\n",
              "4   Brc1cccc(Nc2ncnc3cnc(NCCCN4CCOCC4)cc23)c1 -7.35655     1.0"
            ],
            "text/html": [
              "\n",
              "  <div id=\"df-58ec9f20-13a6-462c-a1ac-e86c8942b66b\" class=\"colab-df-container\">\n",
              "    <div>\n",
              "<style scoped>\n",
              "    .dataframe tbody tr th:only-of-type {\n",
              "        vertical-align: middle;\n",
              "    }\n",
              "\n",
              "    .dataframe tbody tr th {\n",
              "        vertical-align: top;\n",
              "    }\n",
              "\n",
              "    .dataframe thead th {\n",
              "        text-align: right;\n",
              "    }\n",
              "</style>\n",
              "<table border=\"1\" class=\"dataframe\">\n",
              "  <thead>\n",
              "    <tr style=\"text-align: right;\">\n",
              "      <th></th>\n",
              "      <th>smiles</th>\n",
              "      <th>logS</th>\n",
              "      <th>weight</th>\n",
              "    </tr>\n",
              "  </thead>\n",
              "  <tbody>\n",
              "    <tr>\n",
              "      <th>0</th>\n",
              "      <td>Brc1ccc(-c2nc(-c3ccc4nc[nH]c4c3)no2)cc1</td>\n",
              "      <td>-4.45100</td>\n",
              "      <td>1.0</td>\n",
              "    </tr>\n",
              "    <tr>\n",
              "      <th>1</th>\n",
              "      <td>Brc1cccc(Nc2nc3c(N4CCCC4)ncnc3s2)c1</td>\n",
              "      <td>-3.39942</td>\n",
              "      <td>1.0</td>\n",
              "    </tr>\n",
              "    <tr>\n",
              "      <th>2</th>\n",
              "      <td>Brc1cccc(Nc2ncnc3cc(NCCCn4ccnc4)ncc23)c1</td>\n",
              "      <td>-1.39794</td>\n",
              "      <td>1.0</td>\n",
              "    </tr>\n",
              "    <tr>\n",
              "      <th>3</th>\n",
              "      <td>Brc1cccc(Nc2ncnc3cc(NCCc4c[nH]cn4)ncc23)c1</td>\n",
              "      <td>-1.45593</td>\n",
              "      <td>1.0</td>\n",
              "    </tr>\n",
              "    <tr>\n",
              "      <th>4</th>\n",
              "      <td>Brc1cccc(Nc2ncnc3cnc(NCCCN4CCOCC4)cc23)c1</td>\n",
              "      <td>-7.35655</td>\n",
              "      <td>1.0</td>\n",
              "    </tr>\n",
              "  </tbody>\n",
              "</table>\n",
              "</div>\n",
              "    <div class=\"colab-df-buttons\">\n",
              "\n",
              "  <div class=\"colab-df-container\">\n",
              "    <button class=\"colab-df-convert\" onclick=\"convertToInteractive('df-58ec9f20-13a6-462c-a1ac-e86c8942b66b')\"\n",
              "            title=\"Convert this dataframe to an interactive table.\"\n",
              "            style=\"display:none;\">\n",
              "\n",
              "  <svg xmlns=\"http://www.w3.org/2000/svg\" height=\"24px\" viewBox=\"0 -960 960 960\">\n",
              "    <path d=\"M120-120v-720h720v720H120Zm60-500h600v-160H180v160Zm220 220h160v-160H400v160Zm0 220h160v-160H400v160ZM180-400h160v-160H180v160Zm440 0h160v-160H620v160ZM180-180h160v-160H180v160Zm440 0h160v-160H620v160Z\"/>\n",
              "  </svg>\n",
              "    </button>\n",
              "\n",
              "  <style>\n",
              "    .colab-df-container {\n",
              "      display:flex;\n",
              "      gap: 12px;\n",
              "    }\n",
              "\n",
              "    .colab-df-convert {\n",
              "      background-color: #E8F0FE;\n",
              "      border: none;\n",
              "      border-radius: 50%;\n",
              "      cursor: pointer;\n",
              "      display: none;\n",
              "      fill: #1967D2;\n",
              "      height: 32px;\n",
              "      padding: 0 0 0 0;\n",
              "      width: 32px;\n",
              "    }\n",
              "\n",
              "    .colab-df-convert:hover {\n",
              "      background-color: #E2EBFA;\n",
              "      box-shadow: 0px 1px 2px rgba(60, 64, 67, 0.3), 0px 1px 3px 1px rgba(60, 64, 67, 0.15);\n",
              "      fill: #174EA6;\n",
              "    }\n",
              "\n",
              "    .colab-df-buttons div {\n",
              "      margin-bottom: 4px;\n",
              "    }\n",
              "\n",
              "    [theme=dark] .colab-df-convert {\n",
              "      background-color: #3B4455;\n",
              "      fill: #D2E3FC;\n",
              "    }\n",
              "\n",
              "    [theme=dark] .colab-df-convert:hover {\n",
              "      background-color: #434B5C;\n",
              "      box-shadow: 0px 1px 3px 1px rgba(0, 0, 0, 0.15);\n",
              "      filter: drop-shadow(0px 1px 2px rgba(0, 0, 0, 0.3));\n",
              "      fill: #FFFFFF;\n",
              "    }\n",
              "  </style>\n",
              "\n",
              "    <script>\n",
              "      const buttonEl =\n",
              "        document.querySelector('#df-58ec9f20-13a6-462c-a1ac-e86c8942b66b button.colab-df-convert');\n",
              "      buttonEl.style.display =\n",
              "        google.colab.kernel.accessAllowed ? 'block' : 'none';\n",
              "\n",
              "      async function convertToInteractive(key) {\n",
              "        const element = document.querySelector('#df-58ec9f20-13a6-462c-a1ac-e86c8942b66b');\n",
              "        const dataTable =\n",
              "          await google.colab.kernel.invokeFunction('convertToInteractive',\n",
              "                                                    [key], {});\n",
              "        if (!dataTable) return;\n",
              "\n",
              "        const docLinkHtml = 'Like what you see? Visit the ' +\n",
              "          '<a target=\"_blank\" href=https://colab.research.google.com/notebooks/data_table.ipynb>data table notebook</a>'\n",
              "          + ' to learn more about interactive tables.';\n",
              "        element.innerHTML = '';\n",
              "        dataTable['output_type'] = 'display_data';\n",
              "        await google.colab.output.renderOutput(dataTable, element);\n",
              "        const docLink = document.createElement('div');\n",
              "        docLink.innerHTML = docLinkHtml;\n",
              "        element.appendChild(docLink);\n",
              "      }\n",
              "    </script>\n",
              "  </div>\n",
              "\n",
              "\n",
              "<div id=\"df-8ee24a82-bb10-4eab-bddd-4c4705507bec\">\n",
              "  <button class=\"colab-df-quickchart\" onclick=\"quickchart('df-8ee24a82-bb10-4eab-bddd-4c4705507bec')\"\n",
              "            title=\"Suggest charts\"\n",
              "            style=\"display:none;\">\n",
              "\n",
              "<svg xmlns=\"http://www.w3.org/2000/svg\" height=\"24px\"viewBox=\"0 0 24 24\"\n",
              "     width=\"24px\">\n",
              "    <g>\n",
              "        <path d=\"M19 3H5c-1.1 0-2 .9-2 2v14c0 1.1.9 2 2 2h14c1.1 0 2-.9 2-2V5c0-1.1-.9-2-2-2zM9 17H7v-7h2v7zm4 0h-2V7h2v10zm4 0h-2v-4h2v4z\"/>\n",
              "    </g>\n",
              "</svg>\n",
              "  </button>\n",
              "\n",
              "<style>\n",
              "  .colab-df-quickchart {\n",
              "      --bg-color: #E8F0FE;\n",
              "      --fill-color: #1967D2;\n",
              "      --hover-bg-color: #E2EBFA;\n",
              "      --hover-fill-color: #174EA6;\n",
              "      --disabled-fill-color: #AAA;\n",
              "      --disabled-bg-color: #DDD;\n",
              "  }\n",
              "\n",
              "  [theme=dark] .colab-df-quickchart {\n",
              "      --bg-color: #3B4455;\n",
              "      --fill-color: #D2E3FC;\n",
              "      --hover-bg-color: #434B5C;\n",
              "      --hover-fill-color: #FFFFFF;\n",
              "      --disabled-bg-color: #3B4455;\n",
              "      --disabled-fill-color: #666;\n",
              "  }\n",
              "\n",
              "  .colab-df-quickchart {\n",
              "    background-color: var(--bg-color);\n",
              "    border: none;\n",
              "    border-radius: 50%;\n",
              "    cursor: pointer;\n",
              "    display: none;\n",
              "    fill: var(--fill-color);\n",
              "    height: 32px;\n",
              "    padding: 0;\n",
              "    width: 32px;\n",
              "  }\n",
              "\n",
              "  .colab-df-quickchart:hover {\n",
              "    background-color: var(--hover-bg-color);\n",
              "    box-shadow: 0 1px 2px rgba(60, 64, 67, 0.3), 0 1px 3px 1px rgba(60, 64, 67, 0.15);\n",
              "    fill: var(--button-hover-fill-color);\n",
              "  }\n",
              "\n",
              "  .colab-df-quickchart-complete:disabled,\n",
              "  .colab-df-quickchart-complete:disabled:hover {\n",
              "    background-color: var(--disabled-bg-color);\n",
              "    fill: var(--disabled-fill-color);\n",
              "    box-shadow: none;\n",
              "  }\n",
              "\n",
              "  .colab-df-spinner {\n",
              "    border: 2px solid var(--fill-color);\n",
              "    border-color: transparent;\n",
              "    border-bottom-color: var(--fill-color);\n",
              "    animation:\n",
              "      spin 1s steps(1) infinite;\n",
              "  }\n",
              "\n",
              "  @keyframes spin {\n",
              "    0% {\n",
              "      border-color: transparent;\n",
              "      border-bottom-color: var(--fill-color);\n",
              "      border-left-color: var(--fill-color);\n",
              "    }\n",
              "    20% {\n",
              "      border-color: transparent;\n",
              "      border-left-color: var(--fill-color);\n",
              "      border-top-color: var(--fill-color);\n",
              "    }\n",
              "    30% {\n",
              "      border-color: transparent;\n",
              "      border-left-color: var(--fill-color);\n",
              "      border-top-color: var(--fill-color);\n",
              "      border-right-color: var(--fill-color);\n",
              "    }\n",
              "    40% {\n",
              "      border-color: transparent;\n",
              "      border-right-color: var(--fill-color);\n",
              "      border-top-color: var(--fill-color);\n",
              "    }\n",
              "    60% {\n",
              "      border-color: transparent;\n",
              "      border-right-color: var(--fill-color);\n",
              "    }\n",
              "    80% {\n",
              "      border-color: transparent;\n",
              "      border-right-color: var(--fill-color);\n",
              "      border-bottom-color: var(--fill-color);\n",
              "    }\n",
              "    90% {\n",
              "      border-color: transparent;\n",
              "      border-bottom-color: var(--fill-color);\n",
              "    }\n",
              "  }\n",
              "</style>\n",
              "\n",
              "  <script>\n",
              "    async function quickchart(key) {\n",
              "      const quickchartButtonEl =\n",
              "        document.querySelector('#' + key + ' button');\n",
              "      quickchartButtonEl.disabled = true;  // To prevent multiple clicks.\n",
              "      quickchartButtonEl.classList.add('colab-df-spinner');\n",
              "      try {\n",
              "        const charts = await google.colab.kernel.invokeFunction(\n",
              "            'suggestCharts', [key], {});\n",
              "      } catch (error) {\n",
              "        console.error('Error during call to suggestCharts:', error);\n",
              "      }\n",
              "      quickchartButtonEl.classList.remove('colab-df-spinner');\n",
              "      quickchartButtonEl.classList.add('colab-df-quickchart-complete');\n",
              "    }\n",
              "    (() => {\n",
              "      let quickchartButtonEl =\n",
              "        document.querySelector('#df-8ee24a82-bb10-4eab-bddd-4c4705507bec button');\n",
              "      quickchartButtonEl.style.display =\n",
              "        google.colab.kernel.accessAllowed ? 'block' : 'none';\n",
              "    })();\n",
              "  </script>\n",
              "</div>\n",
              "\n",
              "    </div>\n",
              "  </div>\n"
            ],
            "application/vnd.google.colaboratory.intrinsic+json": {
              "type": "dataframe",
              "variable_name": "input",
              "summary": "{\n  \"name\": \"input\",\n  \"rows\": 31099,\n  \"fields\": [\n    {\n      \"column\": \"smiles\",\n      \"properties\": {\n        \"dtype\": \"string\",\n        \"num_unique_values\": 26377,\n        \"samples\": [\n          \"CN(C(=O)c1ccc(F)cc1)c1nc(-c2cc(N)ncn2)cs1\",\n          \"C=C[C@@H]1C[C@]1(NC(=O)[C@@H]1C[C@@](OC)(c2ccc(-c3ccc(OC)cc3)cc2)CN1C(=O)[C@@H](NC(=O)OC1CCCC1)C(C)(C)C)C(=O)NS(=O)(=O)C1CC1\",\n          \"Cc1sc(-c2ncc(C#N)cc2O)nc1CC(=O)NCCc1ccccn1\"\n        ],\n        \"semantic_type\": \"\",\n        \"description\": \"\"\n      }\n    },\n    {\n      \"column\": \"logS\",\n      \"properties\": {\n        \"dtype\": \"number\",\n        \"std\": 1.291767996508309,\n        \"min\": -11.4763,\n        \"max\": 3.26245,\n        \"num_unique_values\": 16180,\n        \"samples\": [\n          -3.33611,\n          -4.69634,\n          -4.67457\n        ],\n        \"semantic_type\": \"\",\n        \"description\": \"\"\n      }\n    },\n    {\n      \"column\": \"weight\",\n      \"properties\": {\n        \"dtype\": \"number\",\n        \"std\": 0.26944190498825643,\n        \"min\": 0.0217391,\n        \"max\": 1.0,\n        \"num_unique_values\": 69,\n        \"samples\": [\n          0.0357143,\n          1.0,\n          0.0833333\n        ],\n        \"semantic_type\": \"\",\n        \"description\": \"\"\n      }\n    }\n  ]\n}"
            }
          },
          "metadata": {},
          "execution_count": 36
        }
      ]
    },
    {
      "cell_type": "code",
      "source": [
        "import pandas as pd\n",
        "from sklearn.metrics import confusion_matrix, classification_report\n",
        "\n",
        "# Load ground truth (logs) and predictions (solubility) from files\n",
        "logs_df = pd.read_csv(\"/content/unique_chembl.csv\")\n",
        "solubility_df = pd.read_csv(\"/content/output_pchembl.csv\")\n",
        "\n",
        "# Assuming both dataframes have an index column and the same order of samples\n",
        "ground_truth = logs_df[\"logS\"]\n",
        "predictions = solubility_df[\"solubility\"]\n",
        "# Convert continuous values to binary classes\n",
        "threshold = -4  # Adjust this threshold based on your problem\n",
        "ground_truth_classes = (ground_truth > threshold).astype(int)\n",
        "predictions_classes = (predictions > threshold).astype(int)\n",
        "\n",
        "# Calculate confusion matrix\n",
        "cm = confusion_matrix(ground_truth_classes, predictions_classes)\n",
        "\n",
        "# Print confusion matrix\n",
        "print(\"Confusion Matrix:\")\n",
        "print(cm)\n",
        "\n",
        "# Calculate classification report\n",
        "cr = classification_report(ground_truth_classes, predictions_classes)\n",
        "\n",
        "# Print classification report\n",
        "print(\"\\nClassification Report:\")\n",
        "print(cr)"
      ],
      "metadata": {
        "colab": {
          "base_uri": "https://localhost:8080/"
        },
        "id": "c1_eBFW_LgQj",
        "outputId": "dce6791b-9cb3-43a5-d938-d97268c251ff"
      },
      "execution_count": 61,
      "outputs": [
        {
          "output_type": "stream",
          "name": "stdout",
          "text": [
            "Confusion Matrix:\n",
            "[[15747  1985]\n",
            " [ 8568  4720]]\n",
            "\n",
            "Classification Report:\n",
            "              precision    recall  f1-score   support\n",
            "\n",
            "           0       0.65      0.89      0.75     17732\n",
            "           1       0.70      0.36      0.47     13288\n",
            "\n",
            "    accuracy                           0.66     31020\n",
            "   macro avg       0.68      0.62      0.61     31020\n",
            "weighted avg       0.67      0.66      0.63     31020\n",
            "\n"
          ]
        }
      ]
    },
    {
      "cell_type": "code",
      "source": [
        "import pandas as pd\n",
        "import numpy as np\n",
        "from sklearn.metrics import mean_squared_error, mean_absolute_error\n",
        "\n",
        "# Load ground truth (logs) and predictions (solubility) from files\n",
        "logs_df = pd.read_csv(\"/content/unique_chembl.csv\")\n",
        "solubility_df = pd.read_csv(\"/content/output_pchembl.csv\")\n",
        "\n",
        "# Assuming both dataframes have an index column and the same order of samples\n",
        "ground_truth = logs_df[\"logS\"]\n",
        "predictions = solubility_df[\"solubility\"]\n",
        "\n",
        "# Calculate Mean Absolute Error (MAE)\n",
        "mae = mean_absolute_error(ground_truth, predictions)\n",
        "print(\"Mean Absolute Error (MAE):\", mae)\n",
        "\n",
        "# Calculate Root Mean Squared Error (RMSE)\n",
        "rmse = np.sqrt(mean_squared_error(ground_truth, predictions))\n",
        "print(\"Root Mean Squared Error (RMSE):\", rmse)"
      ],
      "metadata": {
        "colab": {
          "base_uri": "https://localhost:8080/"
        },
        "id": "S8H7SmyMTnfE",
        "outputId": "8b23261e-723b-4527-ed45-d18d19b5d39f"
      },
      "execution_count": 62,
      "outputs": [
        {
          "output_type": "stream",
          "name": "stdout",
          "text": [
            "Mean Absolute Error (MAE): 1.3373231591422308\n",
            "Root Mean Squared Error (RMSE): 1.7280959712008543\n"
          ]
        }
      ]
    }
  ],
  "metadata": {
    "colab": {
      "provenance": []
    },
    "kernelspec": {
      "display_name": "Python 3",
      "name": "python3"
    },
    "language_info": {
      "name": "python"
    }
  },
  "nbformat": 4,
  "nbformat_minor": 0
}
