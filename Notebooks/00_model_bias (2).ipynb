{
 "cells": [
  {
   "cell_type": "markdown",
   "metadata": {},
   "source": [
    "### This notebook is coded by taliqa muhib - Outreachy contribution period\n",
    "\n",
    "# Data processing\n",
    "\n",
    "In this notebook, I am loading a list of molecules I obtained .... lets do something different\n",
    "- I got the data from kaggle https://www.kaggle.com/code/jocelyndumlao/smiles - easy and expecting to that model get tested with unseen data! so i have the data one which model has been trained and some fresh data as well! lets find some amazing results - BUT it has LogP- which is measure of solubility in oils, but i got *JUGAAD*, LogP would be inversily to LogS, I mean, IF Log P is high then LOG S would be low  , but first we will clean data which i got from github<https://github.com/francoep/SolTranNet_paper/blob/main/soltrannet_data.tar.gz> name Aqsol almost have 10000 data samples and The data which i got from kaggle have almost 16000 rows so it would be little excited to see, we will get almost 6000 new data samples which model have ever seen! i am thinking to make 6 chuncks of to check varience, whrther it works well on similar kinda data! i will make sure it data is in standard smiles for and InChIKey are not needed here! so lets play and make our hands dirty."
   ]
  },
  {
   "cell_type": "code",
   "execution_count": 1,
   "metadata": {},
   "outputs": [
    {
     "name": "stdout",
     "output_type": "stream",
     "text": [
      "Requirement already satisfied: pandas in c:\\users\\hp z book\\anaconda3\\lib\\site-packages (2.0.3)\n",
      "Requirement already satisfied: python-dateutil>=2.8.2 in c:\\users\\hp z book\\anaconda3\\lib\\site-packages (from pandas) (2.8.2)\n",
      "Requirement already satisfied: pytz>=2020.1 in c:\\users\\hp z book\\anaconda3\\lib\\site-packages (from pandas) (2023.3.post1)\n",
      "Requirement already satisfied: tzdata>=2022.1 in c:\\users\\hp z book\\anaconda3\\lib\\site-packages (from pandas) (2023.3)\n",
      "Requirement already satisfied: numpy>=1.21.0 in c:\\users\\hp z book\\anaconda3\\lib\\site-packages (from pandas) (1.24.3)\n",
      "Requirement already satisfied: six>=1.5 in c:\\users\\hp z book\\anaconda3\\lib\\site-packages (from python-dateutil>=2.8.2->pandas) (1.16.0)\n"
     ]
    }
   ],
   "source": [
    "# In this codeblock I will import the necessary packages and specify the paths to relevant folders\n",
    "import os\n",
    "import pandas as pd\n",
    "\n",
    "# Specify paths to relevant folders\n",
    "data_folder = 'data/'\n",
    "model_folder = 'models/'"
   ]
  },
  {
   "cell_type": "code",
   "execution_count": 1,
   "metadata": {},
   "outputs": [],
   "source": [
    "# In this codeblock I will load the data from the /data folder to a Pandas dataframe and understand which headers it has"
   ]
  },
  {
   "cell_type": "code",
   "execution_count": null,
   "metadata": {},
   "outputs": [],
   "source": [
    "# In this codeblock I will convert the molecules to standard SMILES by using the function standardise_smiles from /src\n",
    "# I will import the function directly from src, not copying it here"
   ]
  },
  {
   "cell_type": "code",
   "execution_count": null,
   "metadata": {},
   "outputs": [],
   "source": [
    "# In this codeblock I will get the Inchikey representation of the molecules using the RDKIT package"
   ]
  },
  {
   "cell_type": "code",
   "execution_count": 2,
   "metadata": {},
   "outputs": [],
   "source": [
    "# In this codeblock I will save the data as a .csv file containing only the standard smiles and the inchikey as columns. \n",
    "# All data will be saved with informative names in the /data folder"
   ]
  },
  {
   "cell_type": "markdown",
   "metadata": {},
   "source": [
    "# Model Bias Evaluation\n",
    "\n",
    "Now, I will use the predictions I got from the Ersilia Model Hub on the dataset of 1000 molecules curated above and see how are they distributed in their space (which might be 0 to 1 for probabilities, or different for regression models)"
   ]
  },
  {
   "cell_type": "code",
   "execution_count": 1,
   "metadata": {},
   "outputs": [],
   "source": [
    "# In this codeblock I will load the predictions I've run on Ersilia and saved in the /data folder"
   ]
  },
  {
   "cell_type": "code",
   "execution_count": null,
   "metadata": {},
   "outputs": [],
   "source": [
    "# In this codeblock I will create the necessary plots with MatPlotLib to observe the distribution of predicted values"
   ]
  }
 ],
 "metadata": {
  "kernelspec": {
   "display_name": "docking",
   "language": "python",
   "name": "python3"
  },
  "language_info": {
   "codemirror_mode": {
    "name": "ipython",
    "version": 3
   },
   "file_extension": ".py",
   "mimetype": "text/x-python",
   "name": "python",
   "nbconvert_exporter": "python",
   "pygments_lexer": "ipython3",
   "version": "3.11.5"
  }
 },
 "nbformat": 4,
 "nbformat_minor": 2
}
